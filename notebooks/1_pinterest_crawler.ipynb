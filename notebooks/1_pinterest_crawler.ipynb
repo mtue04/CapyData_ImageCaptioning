{
 "cells": [
  {
   "cell_type": "markdown",
   "metadata": {},
   "source": [
    "# 1. DATA COLLECTION"
   ]
  },
  {
   "cell_type": "markdown",
   "metadata": {},
   "source": [
    "## Import libraries"
   ]
  },
  {
   "cell_type": "code",
   "execution_count": 4,
   "metadata": {},
   "outputs": [],
   "source": [
    "import requests\n",
    "import json\n",
    "import os\n",
    "import urllib\n",
    "import sys"
   ]
  },
  {
   "cell_type": "markdown",
   "metadata": {},
   "source": [
    "## Define functions/classes"
   ]
  },
  {
   "cell_type": "code",
   "execution_count": 5,
   "metadata": {},
   "outputs": [],
   "source": [
    "class Config:\n",
    "    IMAGE_SEARCH_URL = \"https://pinterest.com/resource/BaseSearchResource/get/?\"\n",
    "    def __init__(self, search_keywords=\"\", file_lengths=10, image_quality=\"orig\", bookmarks=\"\"):\n",
    "        self.search_keywords = search_keywords\n",
    "        self.file_lengths = file_lengths\n",
    "        self.image_quality = image_quality\n",
    "        self.bookmarks = bookmarks\n",
    "\n",
    "    #image search url\n",
    "    @property\n",
    "    def search_url(self):\n",
    "        return self.IMAGE_SEARCH_URL\n",
    "\n",
    "    #search parameter \"source_url\"\n",
    "    @property\n",
    "    def source_url(self):\n",
    "        # Mã hóa từ khóa có dấu (q)\n",
    "        search_query = urllib.parse.quote(self.search_keyword)\n",
    "        # Tạo từ khóa không dấu (eq)\n",
    "        search_query_eq = urllib.parse.quote(self.remove_accents(self.search_keyword))\n",
    "        \n",
    "        return f\"/search/pins/?rs=ac&len=2&q={search_query}&eq={search_query_eq}&etslf=1543\"\n",
    "    \n",
    "    def remove_accents(self, text):\n",
    "        \"\"\"\n",
    "        Hàm này sẽ xóa dấu tiếng Việt để tạo ra từ khóa không dấu (eq).\n",
    "        \"\"\"\n",
    "        vietnamese_accents = {\n",
    "            'á': 'a', 'à': 'a', 'ả': 'a', 'ã': 'a', 'ạ': 'a', 'ă': 'a', 'ắ': 'a', 'ằ': 'a', 'ẳ': 'a', 'ẵ': 'a', 'ặ': 'a',\n",
    "            'â': 'a', 'ấ': 'a', 'ầ': 'a', 'ẩ': 'a', 'ẫ': 'a', 'ậ': 'a', 'é': 'e', 'è': 'e', 'ẻ': 'e', 'ẽ': 'e', 'ẹ': 'e',\n",
    "            'ê': 'e', 'ế': 'e', 'ề': 'e', 'ể': 'e', 'ễ': 'e', 'ệ': 'e', 'í': 'i', 'ì': 'i', 'ỉ': 'i', 'ĩ': 'i', 'ị': 'i',\n",
    "            'ó': 'o', 'ò': 'o', 'ỏ': 'o', 'õ': 'o', 'ọ': 'o', 'ô': 'o', 'ố': 'o', 'ồ': 'o', 'ổ': 'o', 'ỗ': 'o', 'ộ': 'o',\n",
    "            'ơ': 'o', 'ớ': 'o', 'ờ': 'o', 'ở': 'o', 'ỡ': 'o', 'ợ': 'o', 'ú': 'u', 'ù': 'u', 'ủ': 'u', 'ũ': 'u', 'ụ': 'u',\n",
    "            'ư': 'u', 'ứ': 'u', 'ừ': 'u', 'ử': 'u', 'ữ': 'u', 'ự': 'u', 'ý': 'y', 'ỳ': 'y', 'ỷ': 'y', 'ỹ': 'y', 'ỵ': 'y',\n",
    "            'đ': 'd'\n",
    "        }\n",
    "        \n",
    "        return ''.join(vietnamese_accents.get(c, c) for c in text)\n",
    "    \n",
    "    #search parameter \"data\"\n",
    "    @property\n",
    "    def image_data(self):        \n",
    "        if self.bookmarks == \"\":\n",
    "            return '''{\"options\":{\"isPrefetch\":false,\"query\":\"''' + self.search_keyword + '''\",\"scope\":\"pins\",\"no_fetch_context_on_resource\":false},\"context\":{}}'''\n",
    "        else:\n",
    "            return '''{\"options\":{\"page_size\":25,\"query\":\"''' + self.search_keyword + '''\",\"scope\":\"pins\",\"bookmarks\":[\"''' + self.bookmark + '''\"],\"field_set_key\":\"unauth_react\",\"no_fetch_context_on_resource\":false},\"context\":{}}'''.strip()\n",
    "\n",
    "    @property\n",
    "    def search_keyword(self):\n",
    "        return self.search_keywords\n",
    "    \n",
    "    @search_keyword.setter\n",
    "    def search_keyword(self, search_keywords):\n",
    "        self.search_keywords = search_keywords\n",
    "    \n",
    "    @property\n",
    "    def file_length(self):\n",
    "        return self.file_lengths\n",
    "    \n",
    "    @file_length.setter\n",
    "    def file_length(self, file_lengths):\n",
    "        self.file_lengths = file_lengths\n",
    "\n",
    "    @property\n",
    "    def image_quality(self):\n",
    "        return self.image_qualitys\n",
    "    \n",
    "    @image_quality.setter\n",
    "    def image_quality(self, image_qualitys):\n",
    "        self.image_qualitys = image_qualitys\n",
    "\n",
    "    @property\n",
    "    def bookmark(self):\n",
    "        return self.bookmarks\n",
    "\n",
    "    @bookmark.setter\n",
    "    def bookmark(self, bookmarks):\n",
    "        self.bookmarks = bookmarks\n",
    "    "
   ]
  },
  {
   "cell_type": "code",
   "execution_count": null,
   "metadata": {},
   "outputs": [],
   "source": [
    "class Scraper:\n",
    "    def __init__(self, config, image_urls=[], save_name=\"\"):\n",
    "        self.config = config\n",
    "        self.image_urls = image_urls\n",
    "        self.save_name = save_name\n",
    "\n",
    "    # Set config for bookmarks (next page)\n",
    "    def setConfig(self, config):\n",
    "        self.config = config\n",
    "\n",
    "    # Download images\n",
    "    def download_images(self):\n",
    "        results = self.get_urls()\n",
    "        if results == None:\n",
    "            print(\"No image found\")\n",
    "            return\n",
    "        folder = \"../data/raw_photos\"\n",
    "        number = 0\n",
    "        # prev get links\n",
    "        try:\n",
    "            os.makedirs(folder)\n",
    "            print(\"Directory \", folder, \" Created \")\n",
    "        except FileExistsError:\n",
    "            a = 1\n",
    "        arr = os.listdir(folder+\"/\")\n",
    "        for i in results:\n",
    "            if str(i + \".jpg\") not in arr:\n",
    "                try:\n",
    "                    ext = \"jpg\" if \"jpg\" in i else \"png\"\n",
    "                    file_name = f\"{self.save_name}_{number + 1}.{ext}\"\n",
    "                    download_folder = str(folder) + \"/\" + file_name\n",
    "                    urllib.request.urlretrieve(i,  download_folder)\n",
    "                    number = number + 1\n",
    "                except Exception as e:\n",
    "                    print(e)\n",
    "\n",
    "    # get_urls return array\n",
    "    def get_urls(self):\n",
    "        SOURCE_URL = self.config.source_url,\n",
    "        DATA = self.config.image_data,\n",
    "        URL_CONSTANT = self.config.search_url\n",
    "        r = requests.get(URL_CONSTANT, params={\n",
    "                         \"source_url\": SOURCE_URL, \"data\": DATA})\n",
    "\n",
    "        jsonData = json.loads(r.content)\n",
    "        if \"resource_response\" not in jsonData:\n",
    "            return self.image_urls[0:self.config.file_length]\n",
    "        resource_response = jsonData[\"resource_response\"]\n",
    "        data = resource_response[\"data\"]\n",
    "        results = data[\"results\"]\n",
    "        for i in results:\n",
    "            url = i[\"images\"][self.config.image_quality][\"url\"]\n",
    "            self.image_urls.append(url)\n",
    "\n",
    "        if len(self.image_urls) < int(self.config.file_length):\n",
    "            if \"bookmark\" in resource_response:\n",
    "                self.config.bookmarks = resource_response[\"bookmark\"]\n",
    "                # print(self.image_urls)\n",
    "                self.get_urls()\n",
    "                return self.image_urls[0:self.config.file_length]\n",
    "        else:\n",
    "            return self.image_urls[0:self.config.file_length]\n",
    "        #if len(str(resource_response[\"bookmark\"])) > 1 : connect(query_string, bookmarks=resource_response[\"bookmark\"])"
   ]
  },
  {
   "cell_type": "code",
   "execution_count": null,
   "metadata": {},
   "outputs": [],
   "source": [
    "# Remove images      \n",
    "def remove_images(folder):\n",
    "    try:\n",
    "        os.system(f\"rm -rf {folder}\")\n",
    "    except Exception as e:\n",
    "        print(e)"
   ]
  },
  {
   "cell_type": "code",
   "execution_count": 36,
   "metadata": {},
   "outputs": [],
   "source": [
    "def crawler(sport, file_lengths, image_quality):\n",
    "    search_keywords = sport + \" action in real life\"\n",
    "    config = Config(search_keywords, file_lengths, image_quality)\n",
    "    scraper = Scraper(config, [], sport)\n",
    "    print(\"Downloading images for \", sport)\n",
    "    scraper.download_images()\n",
    "    print(f\" >>> Finished downloading\")"
   ]
  },
  {
   "cell_type": "markdown",
   "metadata": {},
   "source": [
    "## Test"
   ]
  },
  {
   "cell_type": "code",
   "execution_count": null,
   "metadata": {},
   "outputs": [
    {
     "name": "stdout",
     "output_type": "stream",
     "text": [
      "['https://i.pinimg.com/originals/6b/d6/f8/6bd6f8dbb062ba4a7343d04970a946bb.jpg', 'https://i.pinimg.com/originals/07/e9/53/07e9538c28eeaa96e63a8b0efce021ab.jpg', 'https://i.pinimg.com/originals/8d/f9/49/8df949378a06cd61298a3f19257d4262.jpg', 'https://i.pinimg.com/originals/0e/4d/9f/0e4d9f33f14017621dfa4ce427a38610.jpg', 'https://i.pinimg.com/originals/3e/e5/a0/3ee5a0fc7efefafff90f99bacb08e6fc.jpg', 'https://i.pinimg.com/originals/78/5f/fa/785ffa56b42b2678cbfe83d04de09c18.jpg', 'https://i.pinimg.com/originals/a9/20/f7/a920f79c3da0c1540471fba6826d8d48.jpg', 'https://i.pinimg.com/originals/15/7c/40/157c40004e20bf57c31d167228903e9f.jpg', 'https://i.pinimg.com/originals/7c/2e/aa/7c2eaa45b1363b62a4ac1822e3afc7df.jpg', 'https://i.pinimg.com/originals/f7/98/8c/f7988c9e30e99f19ce9a0b17b720e099.jpg']\n",
      "../data/raw_photos\n",
      "Directory  ../data/raw_photos  Created \n",
      "Done\n"
     ]
    }
   ],
   "source": [
    "# TEST\n",
    "# try with keyword \"Archery\"\n",
    "config = Config(search_keywords=\"archery action real life shot\", file_lengths=10, image_quality=\"orig\")\n",
    "scraper = Scraper(config, [], \"Archery\")\n",
    "print(scraper.get_urls())\n",
    "scraper.download_images()\n",
    "print(\"Done\")"
   ]
  },
  {
   "cell_type": "markdown",
   "metadata": {},
   "source": [
    "## Main"
   ]
  },
  {
   "cell_type": "code",
   "execution_count": 27,
   "metadata": {},
   "outputs": [
    {
     "data": {
      "text/plain": [
       "['Soccer', 'Basketball', 'Tennis', 'Athletics', 'Swimming']"
      ]
     },
     "execution_count": 27,
     "metadata": {},
     "output_type": "execute_result"
    }
   ],
   "source": [
    "with open(\"../data/metadata/sports_cate.txt\", \"r\", encoding=\"utf-8\") as file:\n",
    "    sports_list = [line.strip() for line in file.readlines()]\n",
    "    \n",
    "# Liệt kê thử vài môn thể thao\n",
    "sports_list[:5]"
   ]
  },
  {
   "cell_type": "code",
   "execution_count": null,
   "metadata": {},
   "outputs": [],
   "source": [
    "remove_images(\"../data/raw_photos\")"
   ]
  },
  {
   "cell_type": "code",
   "execution_count": 42,
   "metadata": {},
   "outputs": [
    {
     "name": "stdout",
     "output_type": "stream",
     "text": [
      "Downloading images for  Soccer\n",
      "Directory  ../data/raw_photos  Created \n",
      " >>> Finished downloading\n",
      "Downloading images for  Basketball\n",
      "<urlopen error [WinError 10060] A connection attempt failed because the connected party did not properly respond after a period of time, or established connection failed because connected host has failed to respond>\n",
      " >>> Finished downloading\n",
      "Downloading images for  Tennis\n",
      " >>> Finished downloading\n",
      "Downloading images for  Athletics\n",
      " >>> Finished downloading\n",
      "Downloading images for  Swimming\n",
      " >>> Finished downloading\n",
      "Downloading images for  Gymnastics\n",
      " >>> Finished downloading\n",
      "Downloading images for  Volleyball\n",
      "<urlopen error [WinError 10060] A connection attempt failed because the connected party did not properly respond after a period of time, or established connection failed because connected host has failed to respond>\n",
      "<urlopen error [WinError 10060] A connection attempt failed because the connected party did not properly respond after a period of time, or established connection failed because connected host has failed to respond>\n",
      " >>> Finished downloading\n",
      "Downloading images for  Badminton\n",
      " >>> Finished downloading\n",
      "Downloading images for  Table Tennis\n",
      " >>> Finished downloading\n",
      "Downloading images for  Boxing\n",
      " >>> Finished downloading\n",
      "Downloading images for  Wrestling\n",
      " >>> Finished downloading\n",
      "Downloading images for  Judo\n",
      " >>> Finished downloading\n",
      "Downloading images for  Taekwondo\n",
      " >>> Finished downloading\n",
      "Downloading images for  Cycling\n",
      " >>> Finished downloading\n",
      "Downloading images for  Rowing\n",
      " >>> Finished downloading\n",
      "Downloading images for  Sailing\n",
      " >>> Finished downloading\n",
      "Downloading images for  Canoeing\n",
      " >>> Finished downloading\n",
      "Downloading images for  Fencing\n",
      " >>> Finished downloading\n",
      "Downloading images for  Archery\n",
      " >>> Finished downloading\n",
      "Downloading images for  Weightlifting\n",
      "Remote end closed connection without response\n",
      "<urlopen error [WinError 10060] A connection attempt failed because the connected party did not properly respond after a period of time, or established connection failed because connected host has failed to respond>\n",
      " >>> Finished downloading\n",
      "Downloading images for  Triathlon\n",
      " >>> Finished downloading\n",
      "Downloading images for  Equestrian\n",
      " >>> Finished downloading\n",
      "Downloading images for  Modern Pentathlon\n",
      " >>> Finished downloading\n",
      "Downloading images for  Handball\n",
      " >>> Finished downloading\n",
      "Downloading images for  Rugby Sevens\n",
      " >>> Finished downloading\n",
      "Downloading images for  Golf\n",
      " >>> Finished downloading\n",
      "Downloading images for  Diving\n",
      " >>> Finished downloading\n",
      "Downloading images for  Synchronized Swimming\n",
      " >>> Finished downloading\n",
      "Downloading images for  Water Polo\n",
      " >>> Finished downloading\n",
      "Downloading images for  Skiing\n",
      " >>> Finished downloading\n"
     ]
    }
   ],
   "source": [
    "for sport in sports_list:\n",
    "    # check if there's sport_40.jpg or .png in the folder or not\n",
    "    if os.path.exists(f\"../data/raw_photos/{sport}_38.jpg\") or os.path.exists(f\"../data/raw_photos/{sport}_38.png\"):\n",
    "        continue\n",
    "    crawler(sport, 40, \"orig\")\n"
   ]
  }
 ],
 "metadata": {
  "kernelspec": {
   "display_name": "min_ds-env2",
   "language": "python",
   "name": "python3"
  },
  "language_info": {
   "codemirror_mode": {
    "name": "ipython",
    "version": 3
   },
   "file_extension": ".py",
   "mimetype": "text/x-python",
   "name": "python",
   "nbconvert_exporter": "python",
   "pygments_lexer": "ipython3",
   "version": "3.10.15"
  }
 },
 "nbformat": 4,
 "nbformat_minor": 2
}
