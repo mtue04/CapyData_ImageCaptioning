{
 "cells": [
  {
   "cell_type": "markdown",
   "metadata": {},
   "source": [
    "# 📂 DATA COLLECTION\n",
    "\n",
    "## 🎯 Objective\n",
    "\n",
    "The goal of this step is to collect a high-quality dataset of sports images with corresponding captions for the Image Captioning task. We utilize two data sources:\n",
    "- Google Images Crawling - Scraping sports images and generating captions by using GPT-4-Vision model.\n",
    "- UIT-ViIC Dataset - A publicly available dataset containing Vietnamese captions for images."
   ]
  },
  {
   "cell_type": "markdown",
   "metadata": {},
   "source": [
    "## 🌐 Data Sources\n",
    "\n",
    "**1️⃣ Google Images Crawling**\n",
    "\n",
    "- Reason: Beside Pinterest, Google Images contains a vast collection of sports-related images.\n",
    "- Approach:\n",
    "    - Use web scraping techniques to extract images and descriptions.\n",
    "    - Annotate captions using **GPT-4o-mini API**.\n",
    "- Challenges:\n",
    "    - Ensuring high-quality, relevant captions from the model.\n",
    "    - Handling duplicates and low-quality images.\n",
    "\n",
    "**2️⃣ UIT-ViIC Dataset**\n",
    "\n",
    "- Reason: It provides a structured dataset with Vietnamese captions.\n",
    "- Approach:\n",
    "    - Load from HuggingFace dataset.\n",
    "- Challenges:\n",
    "    - Ensuring consistency between the two datasets.\n",
    "    - Handling different caption formats."
   ]
  },
  {
   "cell_type": "markdown",
   "metadata": {},
   "source": [
    "## 📥 Data Collection Methods"
   ]
  },
  {
   "cell_type": "markdown",
   "metadata": {},
   "source": [
    "### 1️⃣ Self-crawl from GG Images"
   ]
  },
  {
   "cell_type": "markdown",
   "metadata": {},
   "source": [
    "#### Import libraries"
   ]
  },
  {
   "cell_type": "code",
   "execution_count": 87,
   "metadata": {},
   "outputs": [],
   "source": [
    "# !pip install icrawler\n",
    "from icrawler.builtin import GoogleImageCrawler\n",
    "from icrawler.downloader import Downloader\n",
    "import os\n",
    "\n",
    "# Disable warnings\n",
    "import warnings\n",
    "warnings.filterwarnings('ignore')\n",
    "\n",
    "# Disable logging from icrawler\n",
    "import logging\n",
    "logging.getLogger('icrawler').setLevel(logging.CRITICAL)\n"
   ]
  },
  {
   "cell_type": "markdown",
   "metadata": {},
   "source": [
    "#### Define functions/classes"
   ]
  },
  {
   "cell_type": "code",
   "execution_count": 88,
   "metadata": {},
   "outputs": [],
   "source": [
    "# Remove images      \n",
    "def remove_images(folder):\n",
    "    try:\n",
    "        os.system(f\"rm -rf {folder}\")\n",
    "    except Exception as e:\n",
    "        print(e)\n",
    "\n",
    "def crawl_google_images(sport, num_images, cnt):\n",
    "    keyword = sport + \" action real life shot\"\n",
    "    save_dir = f\"../data/self_crawl/google_images\"\n",
    "    crawler = GoogleImageCrawler(storage={\"root_dir\": save_dir})\n",
    "    crawler.crawl(keyword=keyword, max_num=num_images, file_idx_offset=100*cnt)"
   ]
  },
  {
   "cell_type": "markdown",
   "metadata": {},
   "source": [
    "#### TEST"
   ]
  },
  {
   "cell_type": "code",
   "execution_count": 89,
   "metadata": {},
   "outputs": [],
   "source": [
    "crawler = GoogleImageCrawler(storage={\"root_dir\": \"../data/self_crawl/google_images\"})\n",
    "crawler.crawl(keyword=\"Archery action real life shot\", max_num=10, file_idx_offset=100*2)\n",
    "# Remove existing images if any"
   ]
  },
  {
   "cell_type": "markdown",
   "metadata": {},
   "source": [
    "#### MAIN"
   ]
  },
  {
   "cell_type": "code",
   "execution_count": 90,
   "metadata": {},
   "outputs": [
    {
     "data": {
      "text/plain": [
       "['Soccer', 'Basketball', 'Tennis', 'Athletics', 'Swimming']"
      ]
     },
     "execution_count": 90,
     "metadata": {},
     "output_type": "execute_result"
    }
   ],
   "source": [
    "with open(\"../data/metadata/sports_cate.txt\", \"r\", encoding=\"utf-8\") as file:\n",
    "    sports_list = [line.strip() for line in file.readlines()]\n",
    "    \n",
    "# Liệt kê thử vài môn thể thao\n",
    "sports_list[:5]"
   ]
  },
  {
   "cell_type": "code",
   "execution_count": 91,
   "metadata": {},
   "outputs": [],
   "source": [
    "remove_images(\"../data/self_crawl/google_images\")"
   ]
  },
  {
   "cell_type": "code",
   "execution_count": 93,
   "metadata": {},
   "outputs": [
    {
     "name": "stdout",
     "output_type": "stream",
     "text": [
      "Downloading images for Basketball...\n",
      ">> Finish for Basketball...\n",
      "Downloading images for Boxing...\n",
      ">> Finish for Boxing...\n",
      "Downloading images for Wrestling...\n",
      ">> Finish for Wrestling...\n",
      "Downloading images for Judo...\n",
      ">> Finish for Judo...\n",
      "Downloading images for Taekwondo...\n",
      ">> Finish for Taekwondo...\n",
      "Downloading images for Cycling...\n",
      ">> Finish for Cycling...\n",
      "Downloading images for Rowing...\n",
      ">> Finish for Rowing...\n",
      "Downloading images for Sailing...\n",
      ">> Finish for Sailing...\n",
      "Downloading images for Canoeing...\n",
      ">> Finish for Canoeing...\n",
      "Downloading images for Fencing...\n",
      ">> Finish for Fencing...\n",
      "Downloading images for Archery...\n",
      ">> Finish for Archery...\n",
      "Downloading images for Weightlifting...\n",
      ">> Finish for Weightlifting...\n",
      "Downloading images for Triathlon...\n",
      ">> Finish for Triathlon...\n",
      "Downloading images for Equestrian...\n",
      ">> Finish for Equestrian...\n",
      "Downloading images for Modern Pentathlon...\n",
      ">> Finish for Modern Pentathlon...\n",
      "Downloading images for Handball...\n",
      ">> Finish for Handball...\n",
      "Downloading images for Rugby Sevens...\n",
      ">> Finish for Rugby Sevens...\n",
      "Downloading images for Golf...\n",
      ">> Finish for Golf...\n",
      "Downloading images for Diving...\n",
      ">> Finish for Diving...\n",
      "Downloading images for Synchronized Swimming...\n",
      ">> Finish for Synchronized Swimming...\n",
      "Downloading images for Water Polo...\n",
      ">> Finish for Water Polo...\n",
      "Downloading images for Skiing...\n",
      ">> Finish for Skiing...\n",
      "🎉 Done\n"
     ]
    }
   ],
   "source": [
    "cnt = 0\n",
    "for sport in sports_list:\n",
    "    # check if there's sport_40.jpg or .png in the folder or not\n",
    "    cnt += 1\n",
    "    number = str(cnt*100+30)\n",
    "    while len(number) < 6:\n",
    "        number = \"0\" + number\n",
    "    if os.path.exists(f\"../data/self_crawl/google_images/{number}.jpg\") or os.path.exists(f\"../data/self_crawl/google_images/{number}.png\"):\n",
    "        continue\n",
    "    print(f\"Downloading images for {sport}...\")\n",
    "    crawl_google_images(sport, 40, cnt)\n",
    "    print(f\">> Finish for {sport}...\")\n",
    "    \n",
    "print(\"🎉 Done\")"
   ]
  }
 ],
 "metadata": {
  "kernelspec": {
   "display_name": "min_ds-env2",
   "language": "python",
   "name": "python3"
  },
  "language_info": {
   "codemirror_mode": {
    "name": "ipython",
    "version": 3
   },
   "file_extension": ".py",
   "mimetype": "text/x-python",
   "name": "python",
   "nbconvert_exporter": "python",
   "pygments_lexer": "ipython3",
   "version": "3.10.15"
  }
 },
 "nbformat": 4,
 "nbformat_minor": 2
}
